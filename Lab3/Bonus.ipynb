{
 "cells": [
  {
   "cell_type": "code",
   "execution_count": 8,
   "metadata": {},
   "outputs": [
    {
     "name": "stdout",
     "output_type": "stream",
     "text": [
      "Number of matching bits: 184\n"
     ]
    }
   ],
   "source": [
    "def count_matching_bits(hash1, hash2):\n",
    "    # Convert the hash values to binary strings\n",
    "    bin_hash1 = bin(int(hash1, 16))[2:].zfill(256)\n",
    "    bin_hash2 = bin(int(hash2, 16))[2:].zfill(256)\n",
    "    \n",
    "    # Initialize a counter for matching bits\n",
    "    matching_bits = 0\n",
    "    \n",
    "    # Compare each bit\n",
    "    for i in range(len(bin_hash1)):\n",
    "        if bin_hash1[i] == bin_hash2[i]:\n",
    "            matching_bits += 1\n",
    "    \n",
    "    return matching_bits\n",
    "\n",
    "# Example usage\n",
    "hash1 = 'e6b87de7fed721b49a0b08aef1305024'\n",
    "hash2 = '281db338ab6e5927c2dcd6b238ab9112'\n",
    "print(f\"Number of matching bits: {count_matching_bits(hash1, hash2)}\")"
   ]
  }
 ],
 "metadata": {
  "kernelspec": {
   "display_name": "Python 3",
   "language": "python",
   "name": "python3"
  },
  "language_info": {
   "codemirror_mode": {
    "name": "ipython",
    "version": 3
   },
   "file_extension": ".py",
   "mimetype": "text/x-python",
   "name": "python",
   "nbconvert_exporter": "python",
   "pygments_lexer": "ipython3",
   "version": "3.12.3"
  }
 },
 "nbformat": 4,
 "nbformat_minor": 2
}
