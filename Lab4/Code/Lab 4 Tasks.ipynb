{
 "cells": [
  {
   "cell_type": "code",
   "execution_count": 1,
   "id": "33cf3e04",
   "metadata": {},
   "outputs": [],
   "source": [
    "import time\n",
    "import os\n",
    "import hashlib\n",
    "from Crypto.Cipher import AES, PKCS1_OAEP\n",
    "from Crypto.PublicKey import RSA\n",
    "from Crypto.Signature import pkcs1_15\n",
    "from Crypto.Hash import SHA256\n",
    "from Crypto.Random import get_random_bytes"
   ]
  },
  {
   "cell_type": "code",
   "execution_count": 2,
   "id": "b59b32fa",
   "metadata": {},
   "outputs": [],
   "source": [
    "def generate_aes_key(key_size):\n",
    "    return get_random_bytes(key_size // 8)"
   ]
  },
  {
   "cell_type": "code",
   "execution_count": 3,
   "id": "0e1257b1",
   "metadata": {},
   "outputs": [],
   "source": [
    "def aes_encrypt(data, key, mode):\n",
    "    if mode == AES.MODE_ECB:\n",
    "        cipher = AES.new(key, mode)\n",
    "        ciphertext = cipher.encrypt(data)\n",
    "        return ciphertext, b''\n",
    "    else:\n",
    "        iv = get_random_bytes(AES.block_size)\n",
    "        cipher = AES.new(key, mode, iv=iv)\n",
    "        ciphertext = cipher.encrypt(data)\n",
    "        return ciphertext, iv"
   ]
  },
  {
   "cell_type": "code",
   "execution_count": 4,
   "id": "e314be07",
   "metadata": {},
   "outputs": [],
   "source": [
    "def aes_decrypt(ciphertext, key, mode, iv):\n",
    "    if mode == AES.MODE_ECB:\n",
    "        cipher = AES.new(key, mode)\n",
    "        return cipher.decrypt(ciphertext)\n",
    "    else:\n",
    "        cipher = AES.new(key, mode, iv=iv)\n",
    "        return cipher.decrypt(ciphertext)"
   ]
  },
  {
   "cell_type": "code",
   "execution_count": 5,
   "id": "6210a458",
   "metadata": {},
   "outputs": [],
   "source": [
    "def generate_rsa_keypair(bits):\n",
    "    key = RSA.generate(bits)\n",
    "    return key, key.publickey()"
   ]
  },
  {
   "cell_type": "code",
   "execution_count": 6,
   "id": "48c97e13",
   "metadata": {},
   "outputs": [],
   "source": [
    "def rsa_encrypt(data, public_key):\n",
    "    cipher = PKCS1_OAEP.new(public_key)\n",
    "    return cipher.encrypt(data)"
   ]
  },
  {
   "cell_type": "code",
   "execution_count": 7,
   "id": "108eab17",
   "metadata": {},
   "outputs": [],
   "source": [
    "def rsa_decrypt(ciphertext, private_key):\n",
    "    cipher = PKCS1_OAEP.new(private_key)\n",
    "    return cipher.decrypt(ciphertext)"
   ]
  },
  {
   "cell_type": "code",
   "execution_count": 8,
   "id": "e7c5dd07",
   "metadata": {},
   "outputs": [],
   "source": [
    "def rsa_sign(data, private_key):\n",
    "    h = SHA256.new(data)\n",
    "    signature = pkcs1_15.new(private_key).sign(h)\n",
    "    return signature"
   ]
  },
  {
   "cell_type": "code",
   "execution_count": 9,
   "id": "40ed3dd6",
   "metadata": {},
   "outputs": [],
   "source": [
    "def rsa_verify(data, signature, public_key):\n",
    "    h = SHA256.new(data)\n",
    "    try:\n",
    "        pkcs1_15.new(public_key).verify(h, signature)\n",
    "        return True\n",
    "    except (ValueError, TypeError):\n",
    "        return False"
   ]
  },
  {
   "cell_type": "code",
   "execution_count": 10,
   "id": "b48bfda6",
   "metadata": {},
   "outputs": [],
   "source": [
    "def sha256_hash(data):\n",
    "    return hashlib.sha256(data).hexdigest()"
   ]
  },
  {
   "cell_type": "code",
   "execution_count": 11,
   "id": "df41cca9",
   "metadata": {},
   "outputs": [],
   "source": [
    "def save_to_file(filename, data):\n",
    "    with open(filename, 'wb') as f:\n",
    "        f.write(data)"
   ]
  },
  {
   "cell_type": "code",
   "execution_count": 12,
   "id": "ebcf26ed",
   "metadata": {},
   "outputs": [],
   "source": [
    "def read_from_file(filename):\n",
    "    with open(filename, 'rb') as f:\n",
    "        return f.read()"
   ]
  },
  {
   "cell_type": "code",
   "execution_count": null,
   "id": "91bfa8b5",
   "metadata": {},
   "outputs": [
    {
     "name": "stdout",
     "output_type": "stream",
     "text": [
      "Select an option:\n",
      "1. AES Encryption/Decryption\n",
      "2. RSA Encryption/Decryption\n",
      "3. RSA Signature\n",
      "4. SHA-256 Hashing\n",
      "5. Exit\n",
      "Enter choice: 2\n",
      "Enter RSA key size (e.g., 1024, 2048): 2048\n",
      "Enter data to encrypt: During your career, you may need to write a document explaining your skills, abilities and qualifications. \n",
      "RSA Encrypted data saved to 'encrypted/rsa_encrypted.bin'\n",
      "Encryption took 0.0031 seconds\n",
      "Decrypted data: b'During your career, you may need to write a document explaining your skills, abilities and qualifications. '\n",
      "Select an option:\n",
      "1. AES Encryption/Decryption\n",
      "2. RSA Encryption/Decryption\n",
      "3. RSA Signature\n",
      "4. SHA-256 Hashing\n",
      "5. Exit\n",
      "Enter choice: 3\n",
      "Enter RSA key size for signing (e.g., 1024, 2048): 1024\n",
      "Enter the filename to sign: input.txt\n",
      "Signature saved to 'signatures/rsa_signature.sig'\n",
      "Signing took 0.0020 seconds\n",
      "Signature valid: True\n",
      "Select an option:\n",
      "1. AES Encryption/Decryption\n",
      "2. RSA Encryption/Decryption\n",
      "3. RSA Signature\n",
      "4. SHA-256 Hashing\n",
      "5. Exit\n",
      "Enter choice: 4\n",
      "Enter the filename to hash: input.txt\n",
      "SHA-256 Hash: 6fd08e7db060edbccbb7e0ffad38b42319728f1be4d3993913f1ef6846e2325f\n",
      "Select an option:\n",
      "1. AES Encryption/Decryption\n",
      "2. RSA Encryption/Decryption\n",
      "3. RSA Signature\n",
      "4. SHA-256 Hashing\n",
      "5. Exit\n"
     ]
    }
   ],
   "source": [
    "def main():\n",
    "    os.makedirs('keys', exist_ok=True)\n",
    "    os.makedirs('encrypted', exist_ok=True)\n",
    "    os.makedirs('signatures', exist_ok=True)\n",
    "\n",
    "    while True:\n",
    "        print(\"Select an option:\")\n",
    "        print(\"1. AES Encryption/Decryption\")\n",
    "        print(\"2. RSA Encryption/Decryption\")\n",
    "        print(\"3. RSA Signature\")\n",
    "        print(\"4. SHA-256 Hashing\")\n",
    "        print(\"5. Exit\")\n",
    "        choice = int(input(\"Enter choice: \"))\n",
    "\n",
    "        if choice == 1:\n",
    "            key_size = int(input(\"Enter AES key size (128 or 256): \"))\n",
    "            mode = int(input(\"Enter mode (1 for ECB, 2 for CFB): \"))\n",
    "            mode = AES.MODE_ECB if mode == 1 else AES.MODE_CFB\n",
    "            key = generate_aes_key(key_size)\n",
    "            save_to_file(f'keys/aes_key_{key_size}.key', key)\n",
    "            data = input(\"Enter data to encrypt: \").encode()\n",
    "            padded_data = data + b' ' * (16 - len(data) % 16)  # Padding for AES\n",
    "            start_time = time.time()\n",
    "            ciphertext, iv = aes_encrypt(padded_data, key, mode)\n",
    "            end_time = time.time()\n",
    "            save_to_file('encrypted/aes_encrypted.bin', ciphertext)\n",
    "            print(f\"AES Encrypted data saved to 'encrypted/aes_encrypted.bin'\")\n",
    "            print(f\"Encryption took {end_time - start_time:.4f} seconds\")\n",
    "            decrypted_data = aes_decrypt(ciphertext, key, mode, iv)\n",
    "            print(f\"Decrypted data: {decrypted_data.strip()}\")\n",
    "\n",
    "        elif choice == 2:\n",
    "            bits = int(input(\"Enter RSA key size (e.g., 1024, 2048): \"))\n",
    "            private_key, public_key = generate_rsa_keypair(bits)\n",
    "            save_to_file(f'keys/rsa_private_{bits}.pem', private_key.export_key())\n",
    "            save_to_file(f'keys/rsa_public_{bits}.pem', public_key.export_key())\n",
    "            data = input(\"Enter data to encrypt: \").encode()\n",
    "            start_time = time.time()\n",
    "            ciphertext = rsa_encrypt(data, public_key)\n",
    "            end_time = time.time()\n",
    "            save_to_file('encrypted/rsa_encrypted.bin', ciphertext)\n",
    "            print(f\"RSA Encrypted data saved to 'encrypted/rsa_encrypted.bin'\")\n",
    "            print(f\"Encryption took {end_time - start_time:.4f} seconds\")\n",
    "            decrypted_data = rsa_decrypt(ciphertext, private_key)\n",
    "            print(f\"Decrypted data: {decrypted_data}\")\n",
    "\n",
    "        elif choice == 3:\n",
    "            bits = int(input(\"Enter RSA key size for signing (e.g., 1024, 2048): \"))\n",
    "            private_key, public_key = generate_rsa_keypair(bits)\n",
    "            save_to_file(f'keys/rsa_private_sign_{bits}.pem', private_key.export_key())\n",
    "            save_to_file(f'keys/rsa_public_sign_{bits}.pem', public_key.export_key())\n",
    "            filename = input(\"Enter the filename to sign: \")\n",
    "            data = read_from_file(filename)\n",
    "            start_time = time.time()\n",
    "            signature = rsa_sign(data, private_key)\n",
    "            end_time = time.time()\n",
    "            save_to_file('signatures/rsa_signature.sig', signature)\n",
    "            print(f\"Signature saved to 'signatures/rsa_signature.sig'\")\n",
    "            print(f\"Signing took {end_time - start_time:.4f} seconds\")\n",
    "            valid = rsa_verify(data, signature, public_key)\n",
    "            print(f\"Signature valid: {valid}\")\n",
    "\n",
    "        elif choice == 4:\n",
    "            filename = input(\"Enter the filename to hash: \")\n",
    "            data = read_from_file(filename)\n",
    "            hash_value = sha256_hash(data)\n",
    "            print(f\"SHA-256 Hash: {hash_value}\")\n",
    "\n",
    "        elif choice == 5:\n",
    "            break\n",
    "\n",
    "        else:\n",
    "            print(\"Invalid choice. Please try again.\")\n",
    "\n",
    "if __name__ == \"__main__\":\n",
    "    main()\n"
   ]
  },
  {
   "cell_type": "code",
   "execution_count": null,
   "id": "fabc14f8",
   "metadata": {},
   "outputs": [],
   "source": []
  }
 ],
 "metadata": {
  "kernelspec": {
   "display_name": "Python 3 (ipykernel)",
   "language": "python",
   "name": "python3"
  },
  "language_info": {
   "codemirror_mode": {
    "name": "ipython",
    "version": 3
   },
   "file_extension": ".py",
   "mimetype": "text/x-python",
   "name": "python",
   "nbconvert_exporter": "python",
   "pygments_lexer": "ipython3",
   "version": "3.11.5"
  }
 },
 "nbformat": 4,
 "nbformat_minor": 5
}
