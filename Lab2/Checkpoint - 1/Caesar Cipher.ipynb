{
 "cells": [
  {
   "cell_type": "code",
   "execution_count": 1,
   "metadata": {},
   "outputs": [
    {
     "name": "stdout",
     "output_type": "stream",
     "text": [
      "ncqnandvrbcqnknbcbvjaclxwcajlcyujcoxavxdccqnan\n"
     ]
    }
   ],
   "source": [
    "# Define the alphabets that we will use for the Caesar cipher\n",
    "alphabet = \"abcdefghijklmnopqrstuvwxyz\"\n",
    "\n",
    "def decrypt_caesar_cipher(ciphertext, key):\n",
    "    # Initialize the plaintext as an empty string\n",
    "    plaintext = \"\"\n",
    "\n",
    "    # Loop over each character in the ciphertext\n",
    "    for char in ciphertext:\n",
    "        # Convert the character to lowercase\n",
    "        char = char.lower()\n",
    "\n",
    "        # If the character is not in the alphabet, add it to the plaintext as is\n",
    "        if char not in alphabet:\n",
    "            plaintext += char\n",
    "        else:\n",
    "            # Find the index of the character in the alphabet\n",
    "            index = alphabet.find(char)\n",
    "\n",
    "            # Subtract the key from the index to decrypt\n",
    "            new_index = index - key\n",
    "\n",
    "            # If the new index is negative, wrap around to the end of the alphabet\n",
    "            if new_index < 0:\n",
    "                new_index += 26\n",
    "\n",
    "            # Add the decrypted character to the plaintext\n",
    "            plaintext += alphabet[new_index]\n",
    "\n",
    "    # Return the decrypted text\n",
    "    return plaintext\n",
    "\n",
    "# Define the ciphertext and key\n",
    "ciphertext = \"odroboewscdrolocdcwkbdmyxdbkmdzvkdpybwyeddrobo\"\n",
    "key = 1\n",
    "\n",
    "# Decrypt the ciphertext and print the result\n",
    "print(decrypt_caesar_cipher(ciphertext, key))"
   ]
  },
  {
   "cell_type": "code",
   "execution_count": 2,
   "metadata": {},
   "outputs": [],
   "source": [
    "with open('output.txt', 'w') as f:\n",
    "    for k in range(1,26):\n",
    "        decrypted_text = decrypt_caesar_cipher(ciphertext,k)\n",
    "        f.write(f\"key: {k} decrypted_text: {decrypted_text}\\n\\n\")"
   ]
  },
  {
   "cell_type": "code",
   "execution_count": null,
   "metadata": {},
   "outputs": [],
   "source": []
  }
 ],
 "metadata": {
  "kernelspec": {
   "display_name": "Python 3",
   "language": "python",
   "name": "python3"
  },
  "language_info": {
   "codemirror_mode": {
    "name": "ipython",
    "version": 3
   },
   "file_extension": ".py",
   "mimetype": "text/x-python",
   "name": "python",
   "nbconvert_exporter": "python",
   "pygments_lexer": "ipython3",
   "version": "3.12.3"
  },
  "orig_nbformat": 4
 },
 "nbformat": 4,
 "nbformat_minor": 2
}
