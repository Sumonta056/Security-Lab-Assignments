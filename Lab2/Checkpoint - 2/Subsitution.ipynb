{
 "cells": [
  {
   "cell_type": "code",
   "execution_count": 23,
   "metadata": {},
   "outputs": [
    {
     "name": "stdout",
     "output_type": "stream",
     "text": [
      "---------\n",
      "i 46 11.358024691358025\n",
      "d 36 8.88888888888889\n",
      "c 33 8.148148148148149\n",
      "p 32 7.901234567901234\n",
      "a 31 7.654320987654321\n",
      "f 30 7.4074074074074066\n",
      "r 23 5.679012345679013\n",
      "e 21 5.185185185185185\n",
      "g 19 4.691358024691358\n",
      "k 19 4.691358024691358\n",
      "n 16 3.950617283950617\n",
      "q 15 3.7037037037037033\n",
      "u 13 3.2098765432098766\n",
      "v 13 3.2098765432098766\n",
      "o 11 2.7160493827160495\n",
      "t 11 2.7160493827160495\n",
      "x 10 2.4691358024691357\n",
      "w 8 1.9753086419753085\n",
      "m 7 1.728395061728395\n",
      "h 6 1.4814814814814816\n",
      "l 3 0.7407407407407408\n",
      "j 1 0.24691358024691357\n",
      "s 1 0.24691358024691357\n",
      "b 0 0.0\n",
      "y 0 0.0\n",
      "z 0 0.0\n",
      "---------\n",
      "IN A PARTICULAR AND, IN EACH CASE, DIFFERENT WAY, THESE FOUR WERE INDISPENSABLE TO HIM--YUGO AMARYL, BECAUSE OF HIS QUICK UNDERSTANDING OF THE PRINCIPLES OF PSYCHOHISTORY AND OF HIS IMAGINATIVE PROBINGS INTO NEW AREAS. IT WAS COMFORTING TO KNOW THAT IF ANYTHING HAPPENED TO SELDON HIMSELF BEFORE THE MATHEMATICS OF THE FIELD COULD BE COMPLETELY WORKED OUT--AND HOW SLOWLY IT PROCEEDED, AND HOW MOUNTAINOUS THE OBSTACLES--THERE WOULD AT LEAST REMAIN ONE GOOD MIND THAT WOULD CONTINUE THE RESEARC\n"
     ]
    }
   ],
   "source": [
    "from collections import namedtuple\n",
    "from operator import attrgetter\n",
    "\n",
    "CharFreq = namedtuple('CharFreq', 'ch cnt per')\n",
    "\n",
    "def char_substitution(prev, cur, message):\n",
    "    return message.replace(prev, cur)\n",
    "\n",
    "def main():\n",
    "    with open('cipher.txt', 'r') as f:\n",
    "        cipher = f.read().strip()\n",
    "\n",
    "    n = len(cipher)\n",
    "\n",
    "    frequency = [0]*27\n",
    "    cnt = 0\n",
    "    for i in range(n):\n",
    "        if 'a' <= cipher[i] <= 'z':\n",
    "            idx = ord(cipher[i]) - ord('a')\n",
    "            frequency[idx] += 1\n",
    "            cnt += 1\n",
    "\n",
    "    y = float(cnt)\n",
    "\n",
    "    char_frequency = []\n",
    "    for i in range(26):\n",
    "        ch = chr(ord('a') + i)\n",
    "        x = float(frequency[i])\n",
    "        per = (x / y) * 100.0\n",
    "        char_frequency.append(CharFreq(ch, frequency[i], per))\n",
    "\n",
    "    print(\"---------\")\n",
    "    char_frequency.sort(key=attrgetter('per'), reverse=True)\n",
    "    for i in range(26):\n",
    "        ch = char_frequency[i].ch\n",
    "        freq = char_frequency[i].cnt\n",
    "        per = char_frequency[i].per\n",
    "\n",
    "        print(ch, freq, per)\n",
    "\n",
    "    print(\"---------\")\n",
    "    message = cipher\n",
    "\n",
    "    with open('substitutions.txt', 'r') as f:\n",
    "        substitutions = [tuple(line.strip().split()) for line in f]\n",
    "\n",
    "    for prev, cur in substitutions:\n",
    "        message = char_substitution(prev, cur, message)\n",
    "\n",
    "    print(message)\n",
    "\n",
    "if __name__ == \"__main__\":\n",
    "    main()"
   ]
  },
  {
   "cell_type": "code",
   "execution_count": null,
   "metadata": {},
   "outputs": [],
   "source": []
  }
 ],
 "metadata": {
  "kernelspec": {
   "display_name": "Python 3",
   "language": "python",
   "name": "python3"
  },
  "language_info": {
   "codemirror_mode": {
    "name": "ipython",
    "version": 3
   },
   "file_extension": ".py",
   "mimetype": "text/x-python",
   "name": "python",
   "nbconvert_exporter": "python",
   "pygments_lexer": "ipython3",
   "version": "3.12.3"
  }
 },
 "nbformat": 4,
 "nbformat_minor": 2
}
